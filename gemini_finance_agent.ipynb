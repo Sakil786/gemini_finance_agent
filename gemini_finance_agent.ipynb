{
  "nbformat": 4,
  "nbformat_minor": 0,
  "metadata": {
    "colab": {
      "provenance": []
    },
    "kernelspec": {
      "name": "python3",
      "display_name": "Python 3"
    },
    "language_info": {
      "name": "python"
    },
    "widgets": {
      "application/vnd.jupyter.widget-state+json": {
        "f8b3a092e5df472f94da7701377f4a3d": {
          "model_module": "@jupyter-widgets/output",
          "model_name": "OutputModel",
          "model_module_version": "1.0.0",
          "state": {
            "_dom_classes": [],
            "_model_module": "@jupyter-widgets/output",
            "_model_module_version": "1.0.0",
            "_model_name": "OutputModel",
            "_view_count": null,
            "_view_module": "@jupyter-widgets/output",
            "_view_module_version": "1.0.0",
            "_view_name": "OutputView",
            "layout": "IPY_MODEL_d1830294b52549d9be31739eac396d66",
            "msg_id": "",
            "outputs": [
              {
                "output_type": "display_data",
                "data": {
                  "text/plain": "\u001b[32m▰▱▱▱▱▱▱\u001b[0m Thinking...\n\u001b[36m┏━\u001b[0m\u001b[36m Message \u001b[0m\u001b[36m━━━━━━━━━━━━━━━━━━━━━━━━━━━━━━━━━━━━━━━━━━━━━━━━━━━━━━━━━━━━━━━━━━━━━━━━━━━━━━━━━━━━━━━━━━━━━━━━━━━━━━\u001b[0m\u001b[36m━┓\u001b[0m\n\u001b[36m┃\u001b[0m                                                                                                                 \u001b[36m┃\u001b[0m\n\u001b[36m┃\u001b[0m \u001b[32mWrite a report comparing NVDA to TSLA in detail\u001b[0m                                                                 \u001b[36m┃\u001b[0m\n\u001b[36m┃\u001b[0m                                                                                                                 \u001b[36m┃\u001b[0m\n\u001b[36m┗━━━━━━━━━━━━━━━━━━━━━━━━━━━━━━━━━━━━━━━━━━━━━━━━━━━━━━━━━━━━━━━━━━━━━━━━━━━━━━━━━━━━━━━━━━━━━━━━━━━━━━━━━━━━━━━━━┛\u001b[0m\n\u001b[33m┏━\u001b[0m\u001b[33m Tool Calls \u001b[0m\u001b[33m━━━━━━━━━━━━━━━━━━━━━━━━━━━━━━━━━━━━━━━━━━━━━━━━━━━━━━━━━━━━━━━━━━━━━━━━━━━━━━━━━━━━━━━━━━━━━━━━━━━\u001b[0m\u001b[33m━┓\u001b[0m\n\u001b[33m┃\u001b[0m                                                                                                                 \u001b[33m┃\u001b[0m\n\u001b[33m┃\u001b[0m • think(thought=I need to compare NVDA and TSLA. I should get company info, analyst recommendations, current    \u001b[33m┃\u001b[0m\n\u001b[33m┃\u001b[0m stock price and company news for both, then present a detailed comparison in a table.)                          \u001b[33m┃\u001b[0m\n\u001b[33m┃\u001b[0m • get_company_info(symbol=NVDA)                                                                                 \u001b[33m┃\u001b[0m\n\u001b[33m┃\u001b[0m • get_analyst_recommendations(symbol=NVDA)                                                                      \u001b[33m┃\u001b[0m\n\u001b[33m┃\u001b[0m • get_current_stock_price(symbol=NVDA)                                                                          \u001b[33m┃\u001b[0m\n\u001b[33m┃\u001b[0m • get_company_news(symbol=NVDA, num_stories=5)                                                                  \u001b[33m┃\u001b[0m\n\u001b[33m┃\u001b[0m • get_company_info(symbol=TSLA)                                                                                 \u001b[33m┃\u001b[0m\n\u001b[33m┃\u001b[0m • get_analyst_recommendations(symbol=TSLA)                                                                      \u001b[33m┃\u001b[0m\n\u001b[33m┃\u001b[0m • get_current_stock_price(symbol=TSLA)                                                                          \u001b[33m┃\u001b[0m\n\u001b[33m┃\u001b[0m • get_company_news(symbol=TSLA, num_stories=5)                                                                  \u001b[33m┃\u001b[0m\n\u001b[33m┃\u001b[0m                                                                                                                 \u001b[33m┃\u001b[0m\n\u001b[33m┗━━━━━━━━━━━━━━━━━━━━━━━━━━━━━━━━━━━━━━━━━━━━━━━━━━━━━━━━━━━━━━━━━━━━━━━━━━━━━━━━━━━━━━━━━━━━━━━━━━━━━━━━━━━━━━━━━┛\u001b[0m\n\u001b[34m┏━\u001b[0m\u001b[34m Response (8.6s) \u001b[0m\u001b[34m━━━━━━━━━━━━━━━━━━━━━━━━━━━━━━━━━━━━━━━━━━━━━━━━━━━━━━━━━━━━━━━━━━━━━━━━━━━━━━━━━━━━━━━━━━━━━━\u001b[0m\u001b[34m━┓\u001b[0m\n\u001b[34m┃\u001b[0m                                                                                                                 \u001b[34m┃\u001b[0m\n\u001b[34m┃\u001b[0m Okay, I will compare NVDA and TSLA by gathering company information, analyst recommendations, current stock     \u001b[34m┃\u001b[0m\n\u001b[34m┃\u001b[0m prices, and company news for both. I will then present a detailed comparison in a table. Here's a detailed      \u001b[34m┃\u001b[0m\n\u001b[34m┃\u001b[0m comparison between NVDA (NVIDIA Corporation) and TSLA (Tesla, Inc.):                                            \u001b[34m┃\u001b[0m\n\u001b[34m┃\u001b[0m                                                                                                                 \u001b[34m┃\u001b[0m\n\u001b[34m┃\u001b[0m                                                                                                                 \u001b[34m┃\u001b[0m\n\u001b[34m┃\u001b[0m  \u001b[1m \u001b[0m\u001b[1mFeature\u001b[0m\u001b[1m                   \u001b[0m\u001b[1m \u001b[0m \u001b[1m \u001b[0m\u001b[1mNVDA (NVIDIA Corporation)\u001b[0m\u001b[1m            \u001b[0m\u001b[1m \u001b[0m \u001b[1m \u001b[0m\u001b[1mTSLA (Tesla, Inc.)\u001b[0m\u001b[1m                    \u001b[0m\u001b[1m \u001b[0m  \u001b[34m┃\u001b[0m\n\u001b[34m┃\u001b[0m  ━━━━━━━━━━━━━━━━━━━━━━━━━━━━━━━━━━━━━━━━━━━━━━━━━━━━━━━━━━━━━━━━━━━━━━━━━━━━━━━━━━━━━━━━━━━━━━━━━━━━━━━━━━━━━  \u001b[34m┃\u001b[0m\n\u001b[34m┃\u001b[0m   \u001b[1mCompany Name\u001b[0m                 NVIDIA Corporation                      Tesla, Inc.                              \u001b[34m┃\u001b[0m\n\u001b[34m┃\u001b[0m   \u001b[1mStock Symbol\u001b[0m                 NVDA                                    TSLA                                     \u001b[34m┃\u001b[0m\n\u001b[34m┃\u001b[0m   \u001b[1mCurrent Stock Price\u001b[0m          94.31 USD                               239.43 USD                               \u001b[34m┃\u001b[0m\n\u001b[34m┃\u001b[0m   \u001b[1mMarket Cap\u001b[0m                   2301163732992 USD                       770131361792 USD                         \u001b[34m┃\u001b[0m\n\u001b[34m┃\u001b[0m   \u001b[1mSector\u001b[0m                       Technology                              Consumer Cyclical                        \u001b[34m┃\u001b[0m\n\u001b[34m┃\u001b[0m   \u001b[1mIndustry\u001b[0m                     Semiconductors                          Auto Manufacturers                       \u001b[34m┃\u001b[0m\n\u001b[34m┃\u001b[0m   \u001b[1mHeadquarters\u001b[0m                 Santa Clara, CA, United States          Austin, TX, United States                \u001b[34m┃\u001b[0m\n\u001b[34m┃\u001b[0m   \u001b[1mEPS\u001b[0m                          2.94                                    2.04                                     \u001b[34m┃\u001b[0m\n\u001b[34m┃\u001b[0m   \u001b[1mP/E Ratio\u001b[0m                    32.078228                               117.367645                               \u001b[34m┃\u001b[0m\n\u001b[34m┃\u001b[0m   \u001b[1m52 Week Low\u001b[0m                  75.606                                  138.8                                    \u001b[34m┃\u001b[0m\n\u001b[34m┃\u001b[0m   \u001b[1m52 Week High\u001b[0m                 153.13                                  488.54                                   \u001b[34m┃\u001b[0m\n\u001b[34m┃\u001b[0m   \u001b[1m50 Day Average\u001b[0m               121.3052                                306.983                                  \u001b[34m┃\u001b[0m\n\u001b[34m┃\u001b[0m   \u001b[1m200 Day Average\u001b[0m              127.06755                               288.75705                                \u001b[34m┃\u001b[0m\n\u001b[34m┃\u001b[0m   \u001b[1mWebsite\u001b[0m                      https://www.nvidia.com                  https://www.tesla.com                    \u001b[34m┃\u001b[0m\n\u001b[34m┃\u001b[0m   \u001b[1mSummary\u001b[0m                      NVIDIA Corporation, a computing         Tesla, Inc. designs, develops,           \u001b[34m┃\u001b[0m\n\u001b[34m┃\u001b[0m                                infrastructure company, provides        manufactures, leases, and sells          \u001b[34m┃\u001b[0m\n\u001b[34m┃\u001b[0m                                graphics and compute and networking     electric vehicles, and energy            \u001b[34m┃\u001b[0m\n\u001b[34m┃\u001b[0m                                solutions. Its products are used in     generation and storage systems.          \u001b[34m┃\u001b[0m\n\u001b[34m┃\u001b[0m                                gaming, professional visualization,                                              \u001b[34m┃\u001b[0m\n\u001b[34m┃\u001b[0m                                data center, and automotive markets.                                             \u001b[34m┃\u001b[0m\n\u001b[34m┃\u001b[0m   \u001b[1mAnalyst Recommendation\u001b[0m       strong_buy                              hold                                     \u001b[34m┃\u001b[0m\n\u001b[34m┃\u001b[0m   \u001b[1mNumber Of Analyst Opinions\u001b[0m   55                                      42                                       \u001b[34m┃\u001b[0m\n\u001b[34m┃\u001b[0m   \u001b[1mEmployees\u001b[0m                    36000                                   125665                                   \u001b[34m┃\u001b[0m\n\u001b[34m┃\u001b[0m   \u001b[1mTotal Cash\u001b[0m                   43209998336                             36563001344                              \u001b[34m┃\u001b[0m\n\u001b[34m┃\u001b[0m   \u001b[1mFree Cash flow\u001b[0m               44169748480                             -826875008                               \u001b[34m┃\u001b[0m\n\u001b[34m┃\u001b[0m   \u001b[1mOperating Cash flow\u001b[0m          64089001984                             14922999808                              \u001b[34m┃\u001b[0m\n\u001b[34m┃\u001b[0m   \u001b[1mEBITDA\u001b[0m                       83316998144                             13027000320                              \u001b[34m┃\u001b[0m\n\u001b[34m┃\u001b[0m   \u001b[1mRevenue Growth\u001b[0m               0.779                                   0.021                                    \u001b[34m┃\u001b[0m\n\u001b[34m┃\u001b[0m   \u001b[1mGross Margins\u001b[0m                0.74988997                              0.17863001                               \u001b[34m┃\u001b[0m\n\u001b[34m┃\u001b[0m   \u001b[1mEbitda Margins\u001b[0m               0.63846                                 0.13335                                  \u001b[34m┃\u001b[0m\n\u001b[34m┃\u001b[0m                                                                                                                 \u001b[34m┃\u001b[0m\n\u001b[34m┃\u001b[0m                                                                                                                 \u001b[34m┃\u001b[0m\n\u001b[34m┃\u001b[0m \u001b[1mLatest News:\u001b[0m                                                                                                    \u001b[34m┃\u001b[0m\n\u001b[34m┃\u001b[0m                                                                                                                 \u001b[34m┃\u001b[0m\n\u001b[34m┃\u001b[0m \u001b[1;33m • \u001b[0m\u001b[1mNVDA:\u001b[0m Recent news indicates that NVDA's stock is plunging amidst a broader \"Magnificent 7\" sell-off,         \u001b[34m┃\u001b[0m\n\u001b[34m┃\u001b[0m \u001b[1;33m   \u001b[0mpotentially due to intensifying trade wars. However, analysts still consider it a top innovative stock.      \u001b[34m┃\u001b[0m\n\u001b[34m┃\u001b[0m \u001b[1;33m • \u001b[0m\u001b[1mTSLA:\u001b[0m Similar to NVDA, TSLA's stock is also experiencing a decline. There are reports about skepticism       \u001b[34m┃\u001b[0m\n\u001b[34m┃\u001b[0m \u001b[1;33m   \u001b[0msurrounding Tesla's AI-driven autonomy and concerns about Elon Musk's public image affecting the company's   \u001b[34m┃\u001b[0m\n\u001b[34m┃\u001b[0m \u001b[1;33m   \u001b[0mreputation, particularly among certain political groups.                                                     \u001b[34m┃\u001b[0m\n\u001b[34m┃\u001b[0m                                                                                                                 \u001b[34m┃\u001b[0m\n\u001b[34m┃\u001b[0m \u001b[1mSummary:\u001b[0m                                                                                                        \u001b[34m┃\u001b[0m\n\u001b[34m┃\u001b[0m                                                                                                                 \u001b[34m┃\u001b[0m\n\u001b[34m┃\u001b[0m NVIDIA and Tesla are both prominent companies, but they operate in different sectors. NVIDIA is a technology    \u001b[34m┃\u001b[0m\n\u001b[34m┃\u001b[0m company focused on computing infrastructure, whereas Tesla is a consumer cyclical company specializing in       \u001b[34m┃\u001b[0m\n\u001b[34m┃\u001b[0m electric vehicles and energy solutions. NVIDIA has a significantly higher market capitalization and strong      \u001b[34m┃\u001b[0m\n\u001b[34m┃\u001b[0m analyst recommendations, while Tesla faces more mixed analyst sentiment. Recent news suggests both companies    \u001b[34m┃\u001b[0m\n\u001b[34m┃\u001b[0m are experiencing stock declines, potentially due to broader market trends and company-specific challenges.      \u001b[34m┃\u001b[0m\n\u001b[34m┃\u001b[0m NVIDIA shows a stronger revenue growth and better margins than Tesla.                                           \u001b[34m┃\u001b[0m\n\u001b[34m┃\u001b[0m                                                                                                                 \u001b[34m┃\u001b[0m\n\u001b[34m┗━━━━━━━━━━━━━━━━━━━━━━━━━━━━━━━━━━━━━━━━━━━━━━━━━━━━━━━━━━━━━━━━━━━━━━━━━━━━━━━━━━━━━━━━━━━━━━━━━━━━━━━━━━━━━━━━━┛\u001b[0m\n",
                  "text/html": "<pre style=\"white-space:pre;overflow-x:auto;line-height:normal;font-family:Menlo,'DejaVu Sans Mono',consolas,'Courier New',monospace\"><span style=\"color: #008000; text-decoration-color: #008000\">▰▱▱▱▱▱▱</span> Thinking...\n<span style=\"color: #008080; text-decoration-color: #008080\">┏━ Message ━━━━━━━━━━━━━━━━━━━━━━━━━━━━━━━━━━━━━━━━━━━━━━━━━━━━━━━━━━━━━━━━━━━━━━━━━━━━━━━━━━━━━━━━━━━━━━━━━━━━━━━┓</span>\n<span style=\"color: #008080; text-decoration-color: #008080\">┃</span>                                                                                                                 <span style=\"color: #008080; text-decoration-color: #008080\">┃</span>\n<span style=\"color: #008080; text-decoration-color: #008080\">┃</span> <span style=\"color: #008000; text-decoration-color: #008000\">Write a report comparing NVDA to TSLA in detail</span>                                                                 <span style=\"color: #008080; text-decoration-color: #008080\">┃</span>\n<span style=\"color: #008080; text-decoration-color: #008080\">┃</span>                                                                                                                 <span style=\"color: #008080; text-decoration-color: #008080\">┃</span>\n<span style=\"color: #008080; text-decoration-color: #008080\">┗━━━━━━━━━━━━━━━━━━━━━━━━━━━━━━━━━━━━━━━━━━━━━━━━━━━━━━━━━━━━━━━━━━━━━━━━━━━━━━━━━━━━━━━━━━━━━━━━━━━━━━━━━━━━━━━━━┛</span>\n<span style=\"color: #808000; text-decoration-color: #808000\">┏━ Tool Calls ━━━━━━━━━━━━━━━━━━━━━━━━━━━━━━━━━━━━━━━━━━━━━━━━━━━━━━━━━━━━━━━━━━━━━━━━━━━━━━━━━━━━━━━━━━━━━━━━━━━━┓</span>\n<span style=\"color: #808000; text-decoration-color: #808000\">┃</span>                                                                                                                 <span style=\"color: #808000; text-decoration-color: #808000\">┃</span>\n<span style=\"color: #808000; text-decoration-color: #808000\">┃</span> • think(thought=I need to compare NVDA and TSLA. I should get company info, analyst recommendations, current    <span style=\"color: #808000; text-decoration-color: #808000\">┃</span>\n<span style=\"color: #808000; text-decoration-color: #808000\">┃</span> stock price and company news for both, then present a detailed comparison in a table.)                          <span style=\"color: #808000; text-decoration-color: #808000\">┃</span>\n<span style=\"color: #808000; text-decoration-color: #808000\">┃</span> • get_company_info(symbol=NVDA)                                                                                 <span style=\"color: #808000; text-decoration-color: #808000\">┃</span>\n<span style=\"color: #808000; text-decoration-color: #808000\">┃</span> • get_analyst_recommendations(symbol=NVDA)                                                                      <span style=\"color: #808000; text-decoration-color: #808000\">┃</span>\n<span style=\"color: #808000; text-decoration-color: #808000\">┃</span> • get_current_stock_price(symbol=NVDA)                                                                          <span style=\"color: #808000; text-decoration-color: #808000\">┃</span>\n<span style=\"color: #808000; text-decoration-color: #808000\">┃</span> • get_company_news(symbol=NVDA, num_stories=5)                                                                  <span style=\"color: #808000; text-decoration-color: #808000\">┃</span>\n<span style=\"color: #808000; text-decoration-color: #808000\">┃</span> • get_company_info(symbol=TSLA)                                                                                 <span style=\"color: #808000; text-decoration-color: #808000\">┃</span>\n<span style=\"color: #808000; text-decoration-color: #808000\">┃</span> • get_analyst_recommendations(symbol=TSLA)                                                                      <span style=\"color: #808000; text-decoration-color: #808000\">┃</span>\n<span style=\"color: #808000; text-decoration-color: #808000\">┃</span> • get_current_stock_price(symbol=TSLA)                                                                          <span style=\"color: #808000; text-decoration-color: #808000\">┃</span>\n<span style=\"color: #808000; text-decoration-color: #808000\">┃</span> • get_company_news(symbol=TSLA, num_stories=5)                                                                  <span style=\"color: #808000; text-decoration-color: #808000\">┃</span>\n<span style=\"color: #808000; text-decoration-color: #808000\">┃</span>                                                                                                                 <span style=\"color: #808000; text-decoration-color: #808000\">┃</span>\n<span style=\"color: #808000; text-decoration-color: #808000\">┗━━━━━━━━━━━━━━━━━━━━━━━━━━━━━━━━━━━━━━━━━━━━━━━━━━━━━━━━━━━━━━━━━━━━━━━━━━━━━━━━━━━━━━━━━━━━━━━━━━━━━━━━━━━━━━━━━┛</span>\n<span style=\"color: #000080; text-decoration-color: #000080\">┏━ Response (8.6s) ━━━━━━━━━━━━━━━━━━━━━━━━━━━━━━━━━━━━━━━━━━━━━━━━━━━━━━━━━━━━━━━━━━━━━━━━━━━━━━━━━━━━━━━━━━━━━━━┓</span>\n<span style=\"color: #000080; text-decoration-color: #000080\">┃</span>                                                                                                                 <span style=\"color: #000080; text-decoration-color: #000080\">┃</span>\n<span style=\"color: #000080; text-decoration-color: #000080\">┃</span> Okay, I will compare NVDA and TSLA by gathering company information, analyst recommendations, current stock     <span style=\"color: #000080; text-decoration-color: #000080\">┃</span>\n<span style=\"color: #000080; text-decoration-color: #000080\">┃</span> prices, and company news for both. I will then present a detailed comparison in a table. Here's a detailed      <span style=\"color: #000080; text-decoration-color: #000080\">┃</span>\n<span style=\"color: #000080; text-decoration-color: #000080\">┃</span> comparison between NVDA (NVIDIA Corporation) and TSLA (Tesla, Inc.):                                            <span style=\"color: #000080; text-decoration-color: #000080\">┃</span>\n<span style=\"color: #000080; text-decoration-color: #000080\">┃</span>                                                                                                                 <span style=\"color: #000080; text-decoration-color: #000080\">┃</span>\n<span style=\"color: #000080; text-decoration-color: #000080\">┃</span>                                                                                                                 <span style=\"color: #000080; text-decoration-color: #000080\">┃</span>\n<span style=\"color: #000080; text-decoration-color: #000080\">┃</span>  <span style=\"font-weight: bold\"> Feature                    </span> <span style=\"font-weight: bold\"> NVDA (NVIDIA Corporation)             </span> <span style=\"font-weight: bold\"> TSLA (Tesla, Inc.)                     </span>  <span style=\"color: #000080; text-decoration-color: #000080\">┃</span>\n<span style=\"color: #000080; text-decoration-color: #000080\">┃</span>  ━━━━━━━━━━━━━━━━━━━━━━━━━━━━━━━━━━━━━━━━━━━━━━━━━━━━━━━━━━━━━━━━━━━━━━━━━━━━━━━━━━━━━━━━━━━━━━━━━━━━━━━━━━━━━  <span style=\"color: #000080; text-decoration-color: #000080\">┃</span>\n<span style=\"color: #000080; text-decoration-color: #000080\">┃</span>   <span style=\"font-weight: bold\">Company Name</span>                 NVIDIA Corporation                      Tesla, Inc.                              <span style=\"color: #000080; text-decoration-color: #000080\">┃</span>\n<span style=\"color: #000080; text-decoration-color: #000080\">┃</span>   <span style=\"font-weight: bold\">Stock Symbol</span>                 NVDA                                    TSLA                                     <span style=\"color: #000080; text-decoration-color: #000080\">┃</span>\n<span style=\"color: #000080; text-decoration-color: #000080\">┃</span>   <span style=\"font-weight: bold\">Current Stock Price</span>          94.31 USD                               239.43 USD                               <span style=\"color: #000080; text-decoration-color: #000080\">┃</span>\n<span style=\"color: #000080; text-decoration-color: #000080\">┃</span>   <span style=\"font-weight: bold\">Market Cap</span>                   2301163732992 USD                       770131361792 USD                         <span style=\"color: #000080; text-decoration-color: #000080\">┃</span>\n<span style=\"color: #000080; text-decoration-color: #000080\">┃</span>   <span style=\"font-weight: bold\">Sector</span>                       Technology                              Consumer Cyclical                        <span style=\"color: #000080; text-decoration-color: #000080\">┃</span>\n<span style=\"color: #000080; text-decoration-color: #000080\">┃</span>   <span style=\"font-weight: bold\">Industry</span>                     Semiconductors                          Auto Manufacturers                       <span style=\"color: #000080; text-decoration-color: #000080\">┃</span>\n<span style=\"color: #000080; text-decoration-color: #000080\">┃</span>   <span style=\"font-weight: bold\">Headquarters</span>                 Santa Clara, CA, United States          Austin, TX, United States                <span style=\"color: #000080; text-decoration-color: #000080\">┃</span>\n<span style=\"color: #000080; text-decoration-color: #000080\">┃</span>   <span style=\"font-weight: bold\">EPS</span>                          2.94                                    2.04                                     <span style=\"color: #000080; text-decoration-color: #000080\">┃</span>\n<span style=\"color: #000080; text-decoration-color: #000080\">┃</span>   <span style=\"font-weight: bold\">P/E Ratio</span>                    32.078228                               117.367645                               <span style=\"color: #000080; text-decoration-color: #000080\">┃</span>\n<span style=\"color: #000080; text-decoration-color: #000080\">┃</span>   <span style=\"font-weight: bold\">52 Week Low</span>                  75.606                                  138.8                                    <span style=\"color: #000080; text-decoration-color: #000080\">┃</span>\n<span style=\"color: #000080; text-decoration-color: #000080\">┃</span>   <span style=\"font-weight: bold\">52 Week High</span>                 153.13                                  488.54                                   <span style=\"color: #000080; text-decoration-color: #000080\">┃</span>\n<span style=\"color: #000080; text-decoration-color: #000080\">┃</span>   <span style=\"font-weight: bold\">50 Day Average</span>               121.3052                                306.983                                  <span style=\"color: #000080; text-decoration-color: #000080\">┃</span>\n<span style=\"color: #000080; text-decoration-color: #000080\">┃</span>   <span style=\"font-weight: bold\">200 Day Average</span>              127.06755                               288.75705                                <span style=\"color: #000080; text-decoration-color: #000080\">┃</span>\n<span style=\"color: #000080; text-decoration-color: #000080\">┃</span>   <span style=\"font-weight: bold\">Website</span>                      https://www.nvidia.com                  https://www.tesla.com                    <span style=\"color: #000080; text-decoration-color: #000080\">┃</span>\n<span style=\"color: #000080; text-decoration-color: #000080\">┃</span>   <span style=\"font-weight: bold\">Summary</span>                      NVIDIA Corporation, a computing         Tesla, Inc. designs, develops,           <span style=\"color: #000080; text-decoration-color: #000080\">┃</span>\n<span style=\"color: #000080; text-decoration-color: #000080\">┃</span>                                infrastructure company, provides        manufactures, leases, and sells          <span style=\"color: #000080; text-decoration-color: #000080\">┃</span>\n<span style=\"color: #000080; text-decoration-color: #000080\">┃</span>                                graphics and compute and networking     electric vehicles, and energy            <span style=\"color: #000080; text-decoration-color: #000080\">┃</span>\n<span style=\"color: #000080; text-decoration-color: #000080\">┃</span>                                solutions. Its products are used in     generation and storage systems.          <span style=\"color: #000080; text-decoration-color: #000080\">┃</span>\n<span style=\"color: #000080; text-decoration-color: #000080\">┃</span>                                gaming, professional visualization,                                              <span style=\"color: #000080; text-decoration-color: #000080\">┃</span>\n<span style=\"color: #000080; text-decoration-color: #000080\">┃</span>                                data center, and automotive markets.                                             <span style=\"color: #000080; text-decoration-color: #000080\">┃</span>\n<span style=\"color: #000080; text-decoration-color: #000080\">┃</span>   <span style=\"font-weight: bold\">Analyst Recommendation</span>       strong_buy                              hold                                     <span style=\"color: #000080; text-decoration-color: #000080\">┃</span>\n<span style=\"color: #000080; text-decoration-color: #000080\">┃</span>   <span style=\"font-weight: bold\">Number Of Analyst Opinions</span>   55                                      42                                       <span style=\"color: #000080; text-decoration-color: #000080\">┃</span>\n<span style=\"color: #000080; text-decoration-color: #000080\">┃</span>   <span style=\"font-weight: bold\">Employees</span>                    36000                                   125665                                   <span style=\"color: #000080; text-decoration-color: #000080\">┃</span>\n<span style=\"color: #000080; text-decoration-color: #000080\">┃</span>   <span style=\"font-weight: bold\">Total Cash</span>                   43209998336                             36563001344                              <span style=\"color: #000080; text-decoration-color: #000080\">┃</span>\n<span style=\"color: #000080; text-decoration-color: #000080\">┃</span>   <span style=\"font-weight: bold\">Free Cash flow</span>               44169748480                             -826875008                               <span style=\"color: #000080; text-decoration-color: #000080\">┃</span>\n<span style=\"color: #000080; text-decoration-color: #000080\">┃</span>   <span style=\"font-weight: bold\">Operating Cash flow</span>          64089001984                             14922999808                              <span style=\"color: #000080; text-decoration-color: #000080\">┃</span>\n<span style=\"color: #000080; text-decoration-color: #000080\">┃</span>   <span style=\"font-weight: bold\">EBITDA</span>                       83316998144                             13027000320                              <span style=\"color: #000080; text-decoration-color: #000080\">┃</span>\n<span style=\"color: #000080; text-decoration-color: #000080\">┃</span>   <span style=\"font-weight: bold\">Revenue Growth</span>               0.779                                   0.021                                    <span style=\"color: #000080; text-decoration-color: #000080\">┃</span>\n<span style=\"color: #000080; text-decoration-color: #000080\">┃</span>   <span style=\"font-weight: bold\">Gross Margins</span>                0.74988997                              0.17863001                               <span style=\"color: #000080; text-decoration-color: #000080\">┃</span>\n<span style=\"color: #000080; text-decoration-color: #000080\">┃</span>   <span style=\"font-weight: bold\">Ebitda Margins</span>               0.63846                                 0.13335                                  <span style=\"color: #000080; text-decoration-color: #000080\">┃</span>\n<span style=\"color: #000080; text-decoration-color: #000080\">┃</span>                                                                                                                 <span style=\"color: #000080; text-decoration-color: #000080\">┃</span>\n<span style=\"color: #000080; text-decoration-color: #000080\">┃</span>                                                                                                                 <span style=\"color: #000080; text-decoration-color: #000080\">┃</span>\n<span style=\"color: #000080; text-decoration-color: #000080\">┃</span> <span style=\"font-weight: bold\">Latest News:</span>                                                                                                    <span style=\"color: #000080; text-decoration-color: #000080\">┃</span>\n<span style=\"color: #000080; text-decoration-color: #000080\">┃</span>                                                                                                                 <span style=\"color: #000080; text-decoration-color: #000080\">┃</span>\n<span style=\"color: #000080; text-decoration-color: #000080\">┃</span> <span style=\"color: #808000; text-decoration-color: #808000; font-weight: bold\"> • </span><span style=\"font-weight: bold\">NVDA:</span> Recent news indicates that NVDA's stock is plunging amidst a broader \"Magnificent 7\" sell-off,         <span style=\"color: #000080; text-decoration-color: #000080\">┃</span>\n<span style=\"color: #000080; text-decoration-color: #000080\">┃</span> <span style=\"color: #808000; text-decoration-color: #808000; font-weight: bold\">   </span>potentially due to intensifying trade wars. However, analysts still consider it a top innovative stock.      <span style=\"color: #000080; text-decoration-color: #000080\">┃</span>\n<span style=\"color: #000080; text-decoration-color: #000080\">┃</span> <span style=\"color: #808000; text-decoration-color: #808000; font-weight: bold\"> • </span><span style=\"font-weight: bold\">TSLA:</span> Similar to NVDA, TSLA's stock is also experiencing a decline. There are reports about skepticism       <span style=\"color: #000080; text-decoration-color: #000080\">┃</span>\n<span style=\"color: #000080; text-decoration-color: #000080\">┃</span> <span style=\"color: #808000; text-decoration-color: #808000; font-weight: bold\">   </span>surrounding Tesla's AI-driven autonomy and concerns about Elon Musk's public image affecting the company's   <span style=\"color: #000080; text-decoration-color: #000080\">┃</span>\n<span style=\"color: #000080; text-decoration-color: #000080\">┃</span> <span style=\"color: #808000; text-decoration-color: #808000; font-weight: bold\">   </span>reputation, particularly among certain political groups.                                                     <span style=\"color: #000080; text-decoration-color: #000080\">┃</span>\n<span style=\"color: #000080; text-decoration-color: #000080\">┃</span>                                                                                                                 <span style=\"color: #000080; text-decoration-color: #000080\">┃</span>\n<span style=\"color: #000080; text-decoration-color: #000080\">┃</span> <span style=\"font-weight: bold\">Summary:</span>                                                                                                        <span style=\"color: #000080; text-decoration-color: #000080\">┃</span>\n<span style=\"color: #000080; text-decoration-color: #000080\">┃</span>                                                                                                                 <span style=\"color: #000080; text-decoration-color: #000080\">┃</span>\n<span style=\"color: #000080; text-decoration-color: #000080\">┃</span> NVIDIA and Tesla are both prominent companies, but they operate in different sectors. NVIDIA is a technology    <span style=\"color: #000080; text-decoration-color: #000080\">┃</span>\n<span style=\"color: #000080; text-decoration-color: #000080\">┃</span> company focused on computing infrastructure, whereas Tesla is a consumer cyclical company specializing in       <span style=\"color: #000080; text-decoration-color: #000080\">┃</span>\n<span style=\"color: #000080; text-decoration-color: #000080\">┃</span> electric vehicles and energy solutions. NVIDIA has a significantly higher market capitalization and strong      <span style=\"color: #000080; text-decoration-color: #000080\">┃</span>\n<span style=\"color: #000080; text-decoration-color: #000080\">┃</span> analyst recommendations, while Tesla faces more mixed analyst sentiment. Recent news suggests both companies    <span style=\"color: #000080; text-decoration-color: #000080\">┃</span>\n<span style=\"color: #000080; text-decoration-color: #000080\">┃</span> are experiencing stock declines, potentially due to broader market trends and company-specific challenges.      <span style=\"color: #000080; text-decoration-color: #000080\">┃</span>\n<span style=\"color: #000080; text-decoration-color: #000080\">┃</span> NVIDIA shows a stronger revenue growth and better margins than Tesla.                                           <span style=\"color: #000080; text-decoration-color: #000080\">┃</span>\n<span style=\"color: #000080; text-decoration-color: #000080\">┃</span>                                                                                                                 <span style=\"color: #000080; text-decoration-color: #000080\">┃</span>\n<span style=\"color: #000080; text-decoration-color: #000080\">┗━━━━━━━━━━━━━━━━━━━━━━━━━━━━━━━━━━━━━━━━━━━━━━━━━━━━━━━━━━━━━━━━━━━━━━━━━━━━━━━━━━━━━━━━━━━━━━━━━━━━━━━━━━━━━━━━━┛</span>\n</pre>\n"
                },
                "metadata": {}
              }
            ]
          }
        },
        "d1830294b52549d9be31739eac396d66": {
          "model_module": "@jupyter-widgets/base",
          "model_name": "LayoutModel",
          "model_module_version": "1.2.0",
          "state": {
            "_model_module": "@jupyter-widgets/base",
            "_model_module_version": "1.2.0",
            "_model_name": "LayoutModel",
            "_view_count": null,
            "_view_module": "@jupyter-widgets/base",
            "_view_module_version": "1.2.0",
            "_view_name": "LayoutView",
            "align_content": null,
            "align_items": null,
            "align_self": null,
            "border": null,
            "bottom": null,
            "display": null,
            "flex": null,
            "flex_flow": null,
            "grid_area": null,
            "grid_auto_columns": null,
            "grid_auto_flow": null,
            "grid_auto_rows": null,
            "grid_column": null,
            "grid_gap": null,
            "grid_row": null,
            "grid_template_areas": null,
            "grid_template_columns": null,
            "grid_template_rows": null,
            "height": null,
            "justify_content": null,
            "justify_items": null,
            "left": null,
            "margin": null,
            "max_height": null,
            "max_width": null,
            "min_height": null,
            "min_width": null,
            "object_fit": null,
            "object_position": null,
            "order": null,
            "overflow": null,
            "overflow_x": null,
            "overflow_y": null,
            "padding": null,
            "right": null,
            "top": null,
            "visibility": null,
            "width": null
          }
        }
      }
    }
  },
  "cells": [
    {
      "cell_type": "code",
      "execution_count": null,
      "metadata": {
        "id": "187kWEiypUex"
      },
      "outputs": [],
      "source": [
        "! pip install -U agno"
      ]
    },
    {
      "cell_type": "code",
      "source": [
        "from agno.agent import Agent\n",
        "from agno.models.google import Gemini\n",
        "from agno.tools.thinking import ThinkingTools\n",
        "from agno.tools.yfinance import YFinanceTools"
      ],
      "metadata": {
        "id": "_DDUmpjKpV38"
      },
      "execution_count": 2,
      "outputs": []
    },
    {
      "cell_type": "code",
      "source": [
        "api_key=\"gemini api key\""
      ],
      "metadata": {
        "id": "Iru13z2upZBz"
      },
      "execution_count": 3,
      "outputs": []
    },
    {
      "cell_type": "code",
      "source": [
        "thinking_agent = Agent(\n",
        "    model=Gemini(id=\"gemini-2.0-flash\",api_key=api_key),\n",
        "    tools=[\n",
        "        ThinkingTools(add_instructions=True),\n",
        "        YFinanceTools(\n",
        "            stock_price=True,\n",
        "            analyst_recommendations=True,\n",
        "            company_info=True,\n",
        "            company_news=True,\n",
        "        ),\n",
        "    ],\n",
        "    instructions=\"Use tables where possible\",\n",
        "    show_tool_calls=True,\n",
        "    markdown=True,\n",
        ")\n",
        "thinking_agent.print_response(\"Write a report comparing NVDA to TSLA in detail\", stream=True)"
      ],
      "metadata": {
        "colab": {
          "base_uri": "https://localhost:8080/",
          "height": 1000,
          "referenced_widgets": [
            "f8b3a092e5df472f94da7701377f4a3d",
            "d1830294b52549d9be31739eac396d66"
          ]
        },
        "id": "oFy9jx_UpfhQ",
        "outputId": "024d3f55-f18b-42a3-a3cf-1813bea830ba"
      },
      "execution_count": 4,
      "outputs": [
        {
          "output_type": "display_data",
          "data": {
            "text/plain": [
              "Output()"
            ],
            "application/vnd.jupyter.widget-view+json": {
              "version_major": 2,
              "version_minor": 0,
              "model_id": "f8b3a092e5df472f94da7701377f4a3d"
            }
          },
          "metadata": {}
        },
        {
          "output_type": "display_data",
          "data": {
            "text/plain": [],
            "text/html": [
              "<pre style=\"white-space:pre;overflow-x:auto;line-height:normal;font-family:Menlo,'DejaVu Sans Mono',consolas,'Courier New',monospace\"></pre>\n"
            ]
          },
          "metadata": {}
        }
      ]
    },
    {
      "cell_type": "code",
      "source": [],
      "metadata": {
        "id": "dzeyXyzoph2X"
      },
      "execution_count": null,
      "outputs": []
    }
  ]
}